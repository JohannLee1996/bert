{
 "cells": [
  {
   "cell_type": "code",
   "execution_count": 15,
   "metadata": {},
   "outputs": [],
   "source": [
    "import pandas as pd\n",
    "from sklearn.model_selection import train_test_split"
   ]
  },
  {
   "cell_type": "code",
   "execution_count": 18,
   "metadata": {},
   "outputs": [],
   "source": [
    "content = []\n",
    "with open('data/simp/train.tsv') as f:\n",
    "    content.append(f.readlines())"
   ]
  },
  {
   "cell_type": "code",
   "execution_count": 19,
   "metadata": {},
   "outputs": [
    {
     "name": "stdout",
     "output_type": "stream",
     "text": [
      "18770\n"
     ]
    }
   ],
   "source": [
    "print(len(content[0]))"
   ]
  },
  {
   "cell_type": "code",
   "execution_count": 22,
   "metadata": {},
   "outputs": [
    {
     "name": "stdout",
     "output_type": "stream",
     "text": [
      "17770\n",
      "T\t党国元老张群王世杰及罗家伦夫人\n",
      "\n",
      "1000\n",
      "T\t却集合了很多与众不同的地方\n",
      "\n"
     ]
    }
   ],
   "source": [
    "test = content[0][-1000:]\n",
    "train = content[0][:-1000]\n",
    "print(len(train))\n",
    "print(train[0])\n",
    "print(len(test))\n",
    "print(test[0])"
   ]
  },
  {
   "cell_type": "code",
   "execution_count": 23,
   "metadata": {},
   "outputs": [],
   "source": [
    "with open('data/simp/test.tsv', 'w') as the_file:\n",
    "    for i in test:\n",
    "        the_file.write(i+'\\n')\n",
    "        \n",
    "with open('data/simp/train1.tsv', 'w') as the_file:\n",
    "    for i in train:\n",
    "        the_file.write(i+'\\n')"
   ]
  }
 ],
 "metadata": {
  "kernelspec": {
   "display_name": "Python 3",
   "language": "python",
   "name": "python3"
  },
  "language_info": {
   "codemirror_mode": {
    "name": "ipython",
    "version": 3
   },
   "file_extension": ".py",
   "mimetype": "text/x-python",
   "name": "python",
   "nbconvert_exporter": "python",
   "pygments_lexer": "ipython3",
   "version": "3.6.5"
  }
 },
 "nbformat": 4,
 "nbformat_minor": 2
}
